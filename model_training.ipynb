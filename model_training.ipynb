{
 "cells": [
  {
   "cell_type": "code",
   "id": "initial_id",
   "metadata": {
    "collapsed": true,
    "ExecuteTime": {
     "end_time": "2025-07-09T20:35:35.368242Z",
     "start_time": "2025-07-09T20:35:21.578234Z"
    }
   },
   "source": [
    "import tensorflow as tf\n",
    "import numpy as np\n",
    "import matplotlib.pyplot as plt\n",
    "import matplotlib.patches as patches\n",
    "import os\n",
    "import cv2 as cv\n",
    "import json\n",
    "import shutil\n",
    "from PIL import Image\n",
    "\n",
    "from ultralytics import YOLO\n",
    "import yaml"
   ],
   "outputs": [],
   "execution_count": 2
  },
  {
   "metadata": {
    "ExecuteTime": {
     "end_time": "2025-07-09T20:35:35.373815Z",
     "start_time": "2025-07-09T20:35:35.371724Z"
    }
   },
   "cell_type": "code",
   "source": [
    "CWD = os.getcwd()\n",
    "DATA_DIR = \"online\"\n",
    "ONLINE_TRAIN = os.path.join(CWD,\"resources\",DATA_DIR,\"images\",\"train\")\n",
    "ONLINE_TEST = os.path.join(CWD,\"resources\",DATA_DIR,\"images\",\"test\")"
   ],
   "id": "916533a99cdc71d4",
   "outputs": [],
   "execution_count": 3
  },
  {
   "metadata": {
    "ExecuteTime": {
     "end_time": "2025-07-09T20:35:35.570608Z",
     "start_time": "2025-07-09T20:35:35.568299Z"
    }
   },
   "cell_type": "code",
   "source": [
    "# copy images from the sorted resources folder to the correct format for the yolo bot\n",
    "online_train_dirs = os.listdir(ONLINE_TRAIN)\n",
    "online_test_dirs = os.listdir(ONLINE_TEST)"
   ],
   "id": "f99bc29174c8495f",
   "outputs": [],
   "execution_count": 4
  },
  {
   "metadata": {},
   "cell_type": "code",
   "outputs": [],
   "execution_count": null,
   "source": [
    "#compile all images\n",
    "for h in range(len(online_train_dirs)):\n",
    "    curr_path = os.path.join(ONLINE_TRAIN,online_train_dirs[h])\n",
    "    file_paths = os.listdir(curr_path)\n",
    "    for i in range(len(file_paths)):\n",
    "        from_file = os.path.join(curr_path,file_paths[i])\n",
    "        to_file = os.path.join(CWD,\"resources\",DATA_DIR,\"train\",\"images\")\n",
    "        shutil.copy(from_file,to_file)\n",
    "\n",
    "for h in range(len(online_test_dirs)):\n",
    "    curr_path = os.path.join(ONLINE_TEST,online_test_dirs[h])\n",
    "    file_paths = os.listdir(curr_path)\n",
    "    for i in range(len(file_paths)):\n",
    "        from_file = os.path.join(curr_path,file_paths[i])\n",
    "        to_file = os.path.join(CWD,\"resources\",DATA_DIR,\"val\",\"images\")\n",
    "        shutil.copy(from_file,to_file)"
   ],
   "id": "3ba69f1af0622137"
  },
  {
   "metadata": {
    "ExecuteTime": {
     "end_time": "2025-07-09T20:36:07.901070Z",
     "start_time": "2025-07-09T20:36:07.884188Z"
    }
   },
   "cell_type": "code",
   "source": [
    "img_path = (os.path.join(ONLINE_TRAIN,online_train_dirs[0]))\n",
    "img = cv.imread(img_path)\n",
    "cv.imshow(\"a\",img)"
   ],
   "id": "521738b8c7289618",
   "outputs": [
    {
     "ename": "error",
     "evalue": "OpenCV(4.11.0) /Users/xperience/GHA-Actions-OpenCV/_work/opencv-python/opencv-python/opencv/modules/highgui/src/window.cpp:973: error: (-215:Assertion failed) size.width>0 && size.height>0 in function 'imshow'\n",
     "output_type": "error",
     "traceback": [
      "\u001B[31m---------------------------------------------------------------------------\u001B[39m",
      "\u001B[31merror\u001B[39m                                     Traceback (most recent call last)",
      "\u001B[36mCell\u001B[39m\u001B[36m \u001B[39m\u001B[32mIn[6]\u001B[39m\u001B[32m, line 3\u001B[39m\n\u001B[32m      1\u001B[39m img_path = (os.path.join(ONLINE_TRAIN,online_train_dirs[\u001B[32m0\u001B[39m]))\n\u001B[32m      2\u001B[39m img = cv.imread(img_path)\n\u001B[32m----> \u001B[39m\u001B[32m3\u001B[39m \u001B[43mcv\u001B[49m\u001B[43m.\u001B[49m\u001B[43mimshow\u001B[49m\u001B[43m(\u001B[49m\u001B[33;43m\"\u001B[39;49m\u001B[33;43ma\u001B[39;49m\u001B[33;43m\"\u001B[39;49m\u001B[43m,\u001B[49m\u001B[43mimg\u001B[49m\u001B[43m)\u001B[49m\n",
      "\u001B[31merror\u001B[39m: OpenCV(4.11.0) /Users/xperience/GHA-Actions-OpenCV/_work/opencv-python/opencv-python/opencv/modules/highgui/src/window.cpp:973: error: (-215:Assertion failed) size.width>0 && size.height>0 in function 'imshow'\n"
     ]
    }
   ],
   "execution_count": 6
  },
  {
   "metadata": {
    "ExecuteTime": {
     "end_time": "2025-07-01T16:57:47.335865Z",
     "start_time": "2025-07-01T16:57:47.325279Z"
    }
   },
   "cell_type": "code",
   "source": [
    "# compile label's names key\n",
    "NAMES_PATH = os.path.join(CWD,\"resources\",\"online\",\"images\",\"obj.names\")\n",
    "#NAMES_PATH = \"obj.names\"\n",
    "keys = {}\n",
    "with open(NAMES_PATH,\"r\") as f:\n",
    "    count = 0\n",
    "    for line in f:\n",
    "        keys[str(count)]=line.strip()\n",
    "        count+=1"
   ],
   "id": "8a4d4bd7dc9e4398",
   "outputs": [],
   "execution_count": 8
  },
  {
   "metadata": {
    "ExecuteTime": {
     "end_time": "2025-07-01T16:58:02.569642Z",
     "start_time": "2025-07-01T16:58:02.565546Z"
    }
   },
   "cell_type": "code",
   "source": [
    "# create data.yaml file\n",
    "data_yaml = {\n",
    "    'path': os.path.join(CWD,\"resources\",DATA_DIR),\n",
    "    'train': os.path.join(CWD,\"resources\",DATA_DIR,\"train\"),\n",
    "    'val': os.path.join(CWD,\"resources\",DATA_DIR,\"val\"),\n",
    "    'names': keys\n",
    "}\n",
    "\n",
    "with open('data.yaml', 'w') as f:\n",
    "    yaml.dump(data_yaml, f)"
   ],
   "id": "eb6ee8da9a3a5fad",
   "outputs": [],
   "execution_count": 9
  },
  {
   "metadata": {},
   "cell_type": "code",
   "outputs": [],
   "execution_count": null,
   "source": [
    "# train model\n",
    "model = YOLO(\"yolov8n.pt\")  # or yolov8n.pt\n",
    "model.train(data=\"data.yaml\", epochs=10, imgsz=384, batch=8, device=\"mps\")\n",
    "\n",
    "#results = model.predict(source=\"myimg.jpg\", save=True, imgsz=640)"
   ],
   "id": "179a2b389482dfdf"
  }
 ],
 "metadata": {
  "kernelspec": {
   "display_name": "Python 3",
   "language": "python",
   "name": "python3"
  },
  "language_info": {
   "codemirror_mode": {
    "name": "ipython",
    "version": 2
   },
   "file_extension": ".py",
   "mimetype": "text/x-python",
   "name": "python",
   "nbconvert_exporter": "python",
   "pygments_lexer": "ipython2",
   "version": "2.7.6"
  }
 },
 "nbformat": 4,
 "nbformat_minor": 5
}
